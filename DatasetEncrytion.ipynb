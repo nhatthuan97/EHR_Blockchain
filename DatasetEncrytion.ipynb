{
 "cells": [
  {
   "cell_type": "code",
   "execution_count": 1,
   "id": "685bffd3-a4f3-4461-adbb-ea3dbbfa23ce",
   "metadata": {
    "tags": []
   },
   "outputs": [],
   "source": [
    "from os import listdir\n",
    "from os.path import isfile, join\n",
    "folder='SeperatedPatient'\n",
    "onlyfiles = [f for f in listdir(f'./{folder}') if isfile(join(f'{folder}', f))]\n",
    "en_folder='EncryptedPatient'"
   ]
  },
  {
   "cell_type": "code",
   "execution_count": 2,
   "id": "d31ab811-0ee6-4764-8c5e-105094a3ea20",
   "metadata": {
    "tags": []
   },
   "outputs": [],
   "source": [
    "from cryptography.fernet import Fernet\n",
    "import csv\n",
    "file_key_dict={}\n",
    "seen=set()\n",
    "for patient_id in onlyfiles:\n",
    "    # Generate a key and instantiate a Fernet object\n",
    "    key = Fernet.generate_key()\n",
    "    while key in seen:\n",
    "        key = Fernet.generate_key()\n",
    "    seen.add(key)\n",
    "    file_key_dict[patient_id]=key\n",
    "    \n",
    "    cipher_suite = Fernet(key)\n",
    "    \n",
    "    # Read the CSV file and encrypt each line\n",
    "    encrypted_lines = []\n",
    "\n",
    "    with open(f'./{folder}/{patient_id}', 'r') as file:\n",
    "        reader = csv.reader(file)\n",
    "        for row in reader:\n",
    "            # Convert the row to a string and then to bytes\n",
    "            row_str = ','.join(row)\n",
    "            row_bytes = row_str.encode('utf-8')\n",
    "\n",
    "            # Encrypt the bytes\n",
    "            encrypted_row = cipher_suite.encrypt(row_bytes)\n",
    "            encrypted_lines.append(encrypted_row)\n",
    "\n",
    "    # Write the encrypted data to a new file\n",
    "    with open(f'./{en_folder}/{patient_id}', 'wb') as file:\n",
    "        for line in encrypted_lines:\n",
    "            file.write(line + b'\\n')\n",
    "\n",
    "    \n",
    "    \n"
   ]
  },
  {
   "cell_type": "code",
   "execution_count": 4,
   "id": "603b09ad-f7ff-47e8-92b7-d90bddad5698",
   "metadata": {
    "tags": []
   },
   "outputs": [],
   "source": [
    "# Save dictionary as a CSV file\n",
    "with open('id_key.csv', 'w', newline='') as csv_file:\n",
    "    writer = csv.writer(csv_file)\n",
    "    for key, value in file_key_dict.items():\n",
    "        writer.writerow([key, value])\n"
   ]
  },
  {
   "cell_type": "code",
   "execution_count": null,
   "id": "6c650612-3918-4505-bdcb-6bf7f7b67cd8",
   "metadata": {},
   "outputs": [],
   "source": []
  }
 ],
 "metadata": {
  "kernelspec": {
   "display_name": "Python 3 (ipykernel)",
   "language": "python",
   "name": "python3"
  },
  "language_info": {
   "codemirror_mode": {
    "name": "ipython",
    "version": 3
   },
   "file_extension": ".py",
   "mimetype": "text/x-python",
   "name": "python",
   "nbconvert_exporter": "python",
   "pygments_lexer": "ipython3",
   "version": "3.11.3"
  }
 },
 "nbformat": 4,
 "nbformat_minor": 5
}
