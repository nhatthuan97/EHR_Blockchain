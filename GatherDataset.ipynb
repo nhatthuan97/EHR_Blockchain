{
 "cells": [
  {
   "cell_type": "markdown",
   "id": "228c712d-31fe-4269-b034-7d7eabc016b5",
   "metadata": {},
   "source": [
    "# Make data from synthea to a centralized, simple dataset for testing purpose"
   ]
  },
  {
   "cell_type": "code",
   "execution_count": 1,
   "id": "fd7c1cbb-459e-421f-bbec-222fffaa7942",
   "metadata": {
    "tags": []
   },
   "outputs": [],
   "source": [
    "from os import listdir\n",
    "from os.path import isfile, join\n",
    "onlyfiles = [f for f in listdir('./synthea_sample_data_csv_latest') if isfile(join('synthea_sample_data_csv_latest', f))]\n"
   ]
  },
  {
   "cell_type": "code",
   "execution_count": 2,
   "id": "51bb7abc-f3f0-4970-ae1c-4d610d0108ac",
   "metadata": {
    "tags": []
   },
   "outputs": [
    {
     "data": {
      "text/plain": [
       "['allergies.csv',\n",
       " 'careplans.csv',\n",
       " 'claims.csv',\n",
       " 'claims_transactions.csv',\n",
       " 'conditions.csv',\n",
       " 'devices.csv',\n",
       " 'encounters.csv',\n",
       " 'imaging_studies.csv',\n",
       " 'immunizations.csv',\n",
       " 'medications.csv',\n",
       " 'observations.csv',\n",
       " 'organizations.csv',\n",
       " 'patients.csv',\n",
       " 'payers.csv',\n",
       " 'payer_transitions.csv',\n",
       " 'procedures.csv',\n",
       " 'providers.csv',\n",
       " 'supplies.csv']"
      ]
     },
     "execution_count": 2,
     "metadata": {},
     "output_type": "execute_result"
    }
   ],
   "source": [
    "onlyfiles"
   ]
  },
  {
   "cell_type": "code",
   "execution_count": 3,
   "id": "b29e48de-1c10-4e86-a8fd-efdf56ec1d8e",
   "metadata": {
    "tags": []
   },
   "outputs": [],
   "source": [
    "import pandas as pd\n",
    "\n",
    "# Load the datasets\n",
    "patients = pd.read_csv('./synthea_sample_data_csv_latest/patients.csv')\n",
    "providers = pd.read_csv('./synthea_sample_data_csv_latest/providers.csv')\n",
    "payers = pd.read_csv('./synthea_sample_data_csv_latest/payers.csv')\n",
    "encounters = pd.read_csv('./synthea_sample_data_csv_latest/encounters.csv')\n",
    "conditions = pd.read_csv('./synthea_sample_data_csv_latest/conditions.csv')\n",
    "procedures = pd.read_csv('./synthea_sample_data_csv_latest/procedures.csv')\n",
    "medications = pd.read_csv('./synthea_sample_data_csv_latest/medications.csv')\n",
    "\n",
    "\n",
    "FinalDf=patients[['Id','FIRST','LAST','HEALTHCARE_COVERAGE']]\n",
    "\n",
    "FinalDf=pd.merge(FinalDf,encounters[['START','STOP','PATIENT','ORGANIZATION','PROVIDER','PAYER','DESCRIPTION']],left_on='Id',right_on='PATIENT')\n",
    "\n",
    "payers.rename(columns={'NAME':'Insurance_name'},inplace=True)\n",
    "\n",
    "payers.rename(columns={'OWNERSHIP':'Insurance_ownership'},inplace=True)\n",
    "\n",
    "FinalDf=pd.merge(FinalDf,payers[['Id','Insurance_name', 'Insurance_ownership']],left_on='PAYER',right_on='Id')\n",
    "\n",
    "FinalDf.drop('Id_y',axis=1,inplace=True)\n",
    "FinalDf.rename(columns={'Id_x':'Id'},inplace=True)"
   ]
  },
  {
   "cell_type": "code",
   "execution_count": 4,
   "id": "ddb0ff25-bbcc-45fa-97fa-7c92685bc36c",
   "metadata": {
    "tags": []
   },
   "outputs": [],
   "source": [
    "providers.rename(columns={'Id':'Provider_id'},inplace=True)\n",
    "providers.rename(columns={'NAME':'Provider Name'},inplace=True)\n",
    "\n"
   ]
  },
  {
   "cell_type": "code",
   "execution_count": 5,
   "id": "1341b7cc-1d11-468f-9954-610490146860",
   "metadata": {
    "tags": []
   },
   "outputs": [],
   "source": [
    "FinalDf=pd.merge(FinalDf,providers[['Provider_id','Provider Name','SPECIALITY']],left_on='PROVIDER',right_on='Provider_id')\n"
   ]
  },
  {
   "cell_type": "code",
   "execution_count": 6,
   "id": "c50e6660-720a-4ab5-a095-50333e73acd0",
   "metadata": {
    "tags": []
   },
   "outputs": [],
   "source": [
    "FinalDf.drop('Provider_id',axis=1,inplace=True)"
   ]
  },
  {
   "cell_type": "code",
   "execution_count": 7,
   "id": "599a9af1-0174-44f7-9bbd-5b2e447b97d5",
   "metadata": {
    "tags": []
   },
   "outputs": [],
   "source": [
    "#FinalDf.to_csv('FinalDatasetCombine.csv',index=False)"
   ]
  },
  {
   "cell_type": "code",
   "execution_count": 10,
   "id": "77303822-87e2-45d8-8fd5-c6fe19a04698",
   "metadata": {
    "tags": []
   },
   "outputs": [
    {
     "data": {
      "text/plain": [
       "Index(['Id', 'FIRST', 'LAST', 'HEALTHCARE_COVERAGE', 'START', 'STOP',\n",
       "       'PATIENT', 'ORGANIZATION', 'PROVIDER', 'PAYER', 'DESCRIPTION',\n",
       "       'Insurance_name', 'Insurance_ownership', 'Provider Name', 'SPECIALITY'],\n",
       "      dtype='object')"
      ]
     },
     "execution_count": 10,
     "metadata": {},
     "output_type": "execute_result"
    }
   ],
   "source": [
    "(FinalDf.columns)"
   ]
  },
  {
   "cell_type": "code",
   "execution_count": null,
   "id": "31dd2163-352e-4833-a3ad-ce27d066d06f",
   "metadata": {},
   "outputs": [],
   "source": []
  }
 ],
 "metadata": {
  "kernelspec": {
   "display_name": "Python 3 (ipykernel)",
   "language": "python",
   "name": "python3"
  },
  "language_info": {
   "codemirror_mode": {
    "name": "ipython",
    "version": 3
   },
   "file_extension": ".py",
   "mimetype": "text/x-python",
   "name": "python",
   "nbconvert_exporter": "python",
   "pygments_lexer": "ipython3",
   "version": "3.11.5"
  }
 },
 "nbformat": 4,
 "nbformat_minor": 5
}
