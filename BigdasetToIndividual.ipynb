{
 "cells": [
  {
   "cell_type": "markdown",
   "id": "032efe23-7885-4415-adb9-0b6628799d27",
   "metadata": {},
   "source": [
    "# Seperated the big cumilative to each smaller csv files where each csv file represent a record for a patient"
   ]
  },
  {
   "cell_type": "code",
   "execution_count": 1,
   "id": "39563a9e-2e85-4ac5-b9de-bb7bb3ef971f",
   "metadata": {
    "tags": []
   },
   "outputs": [],
   "source": [
    "import pandas as pd\n",
    "\n",
    "# Load the datasets\n",
    "df = pd.read_csv('./FinalDatasetCombine.csv')\n"
   ]
  },
  {
   "cell_type": "code",
   "execution_count": 2,
   "id": "1cffa74d-3909-4c7a-b71f-e884b296d466",
   "metadata": {
    "tags": []
   },
   "outputs": [],
   "source": [
    "df['Id'].unique()\n",
    "for id_val in df['Id'].unique():\n",
    "    selected_rows = df[df['Id'] == id_val]\n",
    "    selected_rows.to_csv('./SeperatedPatient/'+id_val+'.csv',index=False)"
   ]
  },
  {
   "cell_type": "code",
   "execution_count": null,
   "id": "282f67dc-193c-4f89-b5ab-6bbfbc8398ad",
   "metadata": {},
   "outputs": [],
   "source": []
  }
 ],
 "metadata": {
  "kernelspec": {
   "display_name": "Python 3 (ipykernel)",
   "language": "python",
   "name": "python3"
  },
  "language_info": {
   "codemirror_mode": {
    "name": "ipython",
    "version": 3
   },
   "file_extension": ".py",
   "mimetype": "text/x-python",
   "name": "python",
   "nbconvert_exporter": "python",
   "pygments_lexer": "ipython3",
   "version": "3.11.3"
  }
 },
 "nbformat": 4,
 "nbformat_minor": 5
}
