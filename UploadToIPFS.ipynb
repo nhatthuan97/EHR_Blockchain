{
 "cells": [
  {
   "cell_type": "code",
   "execution_count": 4,
   "id": "1287ebfc-68e2-4a20-aa74-59727124d03a",
   "metadata": {
    "tags": []
   },
   "outputs": [
    {
     "name": "stdout",
     "output_type": "stream",
     "text": [
      "{'03b3c284-3b57-bfe3-7274-ef49406def8e.csv': 'QmP3SDLNpH6F2bQkKGfCZuhHhEE8yuTewp8Wjto6R5PrgZ', '08dbe52c-3eae-2d62-72f9-5575f6d305f2.csv': 'QmVmDvwn272Kp8sX5tnUFjF3L2kz1acTjVhwE7Z7f23T1B', '0e3423d3-44fc-50ed-60f0-771fab3fa18a.csv': 'QmRqEiFmb88MfQKS1koJNnEueCHqrLdXv1xjf4Dx3U6qeU', '1096b354-d267-356f-5d1d-9ea145fd7edf.csv': 'QmVQfcLeVt9HXyCCy9Z67Gs6mhacdrAzo72g4JFui2azGp', '10acd373-14d9-6077-f0fc-790e06d7c6c5.csv': 'QmVufLbU959PxhdnywgVuTFHVH58uDfxUWcEme6UrjAry1', '10c8528d-23e4-6a92-c005-efde4d651ce1.csv': 'QmQJ79jCk1TGMetx4A4yHGUs5WotJZuJWbmY4aN5DBD3TZ', '145c8f1d-3653-8d02-6a18-1681f10be2b7.csv': 'QmTxqwNGhv1V52cCQpKfu9NUbhp5KDnryb6gR3CDEMGAEG', '164c3279-3dfd-373a-90e5-0c3ec46b5528.csv': 'QmVRwJ6oJNeTT1ZCvfjzg6KnLL2DPKXMh1ydpXzEC7DxB3', '17a1e73b-3f0a-ab2d-d6b4-68cb4c606f78.csv': 'QmVbqsw61qh81Vd22SEep6vizvVZMYDTB6wmf7JBsRbs3w', '1829a00a-e784-ba22-509a-f955936b1a6e.csv': 'QmRuKkomD5g2yXGPLponvWNHkqagBY7RHAHmXK73vFaHZi', '1c3ef85e-94e9-00fc-f9cb-bcba7b7e2eb8.csv': 'QmP6YkqrH8oRQ5QNrtqNp818RTS6EzbwHtBtcDLZYRDrvF', '1feba1c3-7304-6e13-a4ac-ca1b1c9251ee.csv': 'QmZySvxXLNWhboeGGAMw91JdGxcJx7Pa7CsLymGL3YPyHa', '22f833d1-2415-e570-3d69-247606b565f6.csv': 'QmdmH6av5Xt8reBB2Yo1DDXvsV8hKCb5ymoYhzA3jZUAbp', '2351351e-8883-6531-7d31-60a0718f271a.csv': 'QmXCrAjGFvLL5Z3voaSdVCtebvX1reLJJ2PMn2xQfQVbT3', '241d2b38-5d59-7a62-18a7-bc21cb4b348b.csv': 'Qmd7SvBXo3P1TrmasDGVfxB1WbznUXQqMuZqCVx9jgSxpR', '27143e6a-3ce4-1e02-7116-f4b6d05db0d8.csv': 'QmPwQNgqYAqFVKB5DPc47iBsEf86JHEx5BDQrRmVsh4gLW', '273f81dc-6109-33ee-4e7c-ee0a74e87f1c.csv': 'QmYe4B9BJ39QrufodgDu3uCNXf4nYBnHogNz4ZTCFsPvkX', '2b10c428-4798-b5dc-3272-ab24845de619.csv': 'QmWugW4FMNkppKYpVyZKSdc8MLrczpW8LrAzdN3YFnFfEs', '2b9342d6-eaf1-d71b-4977-13a6268f3d96.csv': 'Qmb4ywnSprUJGxZG333ko4uWL4mudSJqCXvFuiyL8xvfHz', '30416215-c611-cf16-5aff-c6d1867c64c4.csv': 'QmdSyWt4e5CoeTHsBPdiEcrVVbbt3CFwNx5hncuAXERsam', '37ab1de3-5807-0fbc-0697-daa95028137d.csv': 'QmQ7EKrfw2vvKEzeLyWd6NJyt3NquuWorbdS7ArPsK6oCQ', '37d33c8b-a594-bdcb-a83d-a470b5be69c7.csv': 'Qme9DgU3AkYT2k2JzBE3GbU5LtBmz1CiSzb33v3T2LVcFw', '39c1bf04-de5c-8b90-0424-0057a74af800.csv': 'QmZkcyr8tM3u3x6rbvMiHti1CpCRkURWjc62h1FFjgm2Ay', '3bafeb04-ad69-3ee4-c720-5f2303d1c0a8.csv': 'QmXfGVBFEbkkkmrmvBeu7jE2Tidf73ybqVRYMLP2D6Cytz', '3e9b3e59-e02b-d73f-fc12-701f2d055589.csv': 'QmdyWYLetsDGZ7wHpJy2UwHVUzUuk73DSY765zfsi3fCns', '40461c62-aca9-ad4f-6b43-e266a831f407.csv': 'QmNTN24AuXfzFhjbp7GD6H9xhD8jL8DNB8YTYsZzvhfeLV', '41ca2c8d-f7ed-62da-6505-4dd7379d550a.csv': 'QmZLZ2Re97KNeLe8Y43TKHtbnVgoaV1eHPoi4qmH2396xY', '4435e2e8-5275-399e-6c73-0f5078eb12f5.csv': 'QmYBkdATus5QWKhdJS4ZKykvAFvjqjd2E2KgXRHx6WDYiV', '45c26450-f06b-2900-bf59-c87c7e5f879f.csv': 'QmQpZi5VPUcdPhNwD6BMexMH2kbzZQ11tpBc849UGyaipz', '45d3c62d-ce2e-1b99-2424-2e302837ac8f.csv': 'QmcKmEBdQqbBUPgwbrKanLJPFcTpwNWffPjhPN48N5opu5', '4b9c916a-1c39-acc1-aef3-1d045620ae02.csv': 'QmNgtgbWxwQUXxzxWjttWmrBmwhy68pN3emHTvDbkpPVYJ', '4deb4770-8c75-b4c3-3eaf-12b005418b62.csv': 'QmXvmTy1CD9dd9Xcd4zsdTREtHMfmujDVXiFzr6532BQje', '4e728fb1-a347-f0e5-b1b9-bd365b315d74.csv': 'QmbQioJPytCi8vj347BYoM22hWPPZcGUuU1znayEfWcCv4', '50a44e18-4c69-3a66-b3e5-6bd7ff6f6483.csv': 'QmSAADuttrjvzpe9SWhTk1fzbCwtXCYLQPdYCSkBNuHVTr', '50b1568b-53d7-18a9-0242-39603cc9fd9b.csv': 'QmetnSmdPGEk4HX9vqGLL53eihR3BiMMPmpF4QHbCRmTWw', '50f82177-4bd4-c148-3c0c-e3da50f62634.csv': 'QmPboczoj8fBYV2jdkuYBsrPaEi7ianMUn52p4i3puwsbC', '54ca0496-0617-4d76-85f3-670d91233b5a.csv': 'QmcJ6PcvcbupogdvkXwaVQqTamSA2Bz15T4pWXYjhy27Jt', '55119715-00b4-5b6f-55a7-fc3f87c041e5.csv': 'QmdRgYrUQdMVit1f24iJ3Wf53S1PXFwvtqdh8Lkmwxh9s5', '551a8cad-96bb-c909-e8f0-1de4ee479cc7.csv': 'QmSqbpWh6zs83TRv3gvMF3fwnycCA1wzf9jtWkqUpvKeV6', '5530cacc-f34e-5f59-1a29-53c11855ec5c.csv': 'QmSgepS6H1bSq5wA3aesN7qoEJg2Jp2zPXHJ7hJmFwAjHf', '5620ba71-f665-550f-791f-7fd06732f228.csv': 'QmSSMx3Aa4ozkYMTtojbpRWwoUNvoDQHYAxkJRuB2gxgGm', '5774a0a5-00fb-891d-47b1-7184f84c576b.csv': 'QmaoxQHi3XJJaCEhKKsJkwDGBY9MmigkAy723JZ1MTnLWW', '596027dd-1a91-6401-a0e5-d50f072ef028.csv': 'QmVHYuzcubLVLsFjKS4aKUBT1PDpWFBmGQufakpZ6TQ2de', '5a37bd63-c401-f778-6a07-31648948e31a.csv': 'QmXXLvxUkLrpPLc3GoL22bzB6rwPuDLtzd9AQSPwHj2q2J', '5ab73776-7eda-c148-b9b1-516106cdba04.csv': 'Qmcwqpphq7s8qTkhtNbzNyepHNacBQoADM7nkJzndb7TFw', '5b3645de-a2d0-d016-0839-bab3757c4c58.csv': 'QmXrTrBrRJ3ZGWFZMm5ev2ap4tH1v4ZMJ1NCJKNXodQrt3', '5b70be80-a0f2-849f-a286-8a8d2eab86b9.csv': 'QmWwFL1SYWQTMnAM3boH75CkNb3e1n9AobsqzJzEnZNx4C', '619a7ade-d20c-c769-dd54-836974d78892.csv': 'QmWypC9tXZLXNVdahYtFoQcLxG53quLkdjxff4nSqjvekA', '6a335d1d-a79a-583b-27d4-435cc36416db.csv': 'QmR5qj8KstCQszZPwTgPy9pzqKG1ZEp5xv6mNQHj4h1No1', '6cd5d5da-5fcf-edc9-6258-2be16071e3fd.csv': 'QmY8Xx3kNtWRw6gDUTQf4AqovCbdN4ELXwV7YjJBDHqZq2', '6e13e8e0-d846-fe7f-36ea-3eb65b3e3a60.csv': 'QmRhXhC62ryNjFT7iBWXWzSyhnzgQDKfkmMEzup8FhajhZ', '6f981218-09ab-3cc7-126e-318f6e7761e0.csv': 'Qmc58x1WoMg1SzcVSrNQCayiRdgZFJgeqVCMAYUKnqFnLv', '74e650f1-4fa4-68cb-0f62-5bf9287a07a4.csv': 'QmZAHXggKfCNXAfByfvZ6SZ7xJ5CF9aHaixpPLa5bkogY3', '74fd3dd8-8b90-923e-cf1a-ef818064a76c.csv': 'QmcW1bXi1jpem6MJ5kkoJpWvXe84hYadsv8rYbfm9LM9ef', '752b34ad-bea7-27c6-8c53-417a6d9fba25.csv': 'QmXPyyTn7PvJ9oEiqy661q7LFX8HcnH4qLAqfzdJL8Yd78', '757a9d60-9955-98e7-7699-c3704da41196.csv': 'QmSLqUbXjnfqt5vibKHWazAR9sK5FUL46tixhkZv6yJTQ1', '75ea1afa-b75a-3978-0f47-c2bd4d8b3dbf.csv': 'QmTgwa4oWUTKP3X8psmkDCdZJYhzyxbyTNPrcc87S7tYVJ', '791aaec5-2074-0458-b1b6-f6e79a4ce68b.csv': 'QmX4ZHqLPxsyd7j52ok5Apr7QVyoPacMa2Sofo7fnH3jNg', '7e916ab9-3633-cca2-464c-d49991932bef.csv': 'QmQeteqFqM2tLv4hNzwrunjYScyWugGojNzXZvsBbqMEmR', '7f3726a1-ab1b-9ce0-94bd-34436514ccc1.csv': 'QmYzScsFK6k4mpbJb5qNfScB2zpXtagD1VsXu7vsbjgNR8', '8167fa71-7800-c68a-ca8a-66c47c181ffb.csv': 'QmbLGn9z7sK9gQwa2cn5oTSBz5nnQWPrEQ3U46nbcDiggi', '81a0b560-32a9-605b-2a50-83c8e9a95180.csv': 'QmepJ83VPb2yHFsTnDyN22doJGc8rAJr1wLi9C9QHu8G8C', '82e66fb7-016f-65d1-6ab2-d6d5af58576b.csv': 'QmRnSMCw8RDCfgpBE1AG9b2hayTrA1dcwxTdeUwMM9mEh2', '82ffad87-eea3-9f1d-b97a-79b3393be8f2.csv': 'QmSRiZ6QugDUm8pNtELPEhwt5B57EMiqLHBDaUqUPQ87ZE', '86da2090-8404-2b03-ce41-71f5ba023216.csv': 'QmWM6u7JkkbEJF2gEeLMfrcCAWP4LTkmJuZAQpLvdwbXZT', '92d3d37d-bc9b-618a-4964-1c789f0e5474.csv': 'QmR2yLmdUZuBPaWWzZvc2BSoWBsH9tWtJ5vQAW7PNUzYof', '96a8c795-5ddb-d438-9aa0-92292a6d48da.csv': 'QmdTYibahA3gA1kfj4g3SPYVTFu8WPBxM99FHSKizuSw7J', '9b0f5e81-0e5e-8906-e3d6-f699e2e43fa5.csv': 'QmTxPz7Z6vmeFpvtuYFG2a9cajHkLAtHHmYMzc7nzAcyJP', '9ba7c077-65cc-65d2-b8bd-d6ec76ab67ca.csv': 'QmcQMhTGBRckHio5EbKZhi7XugcfWrfc2qH42Fjzo7h4go', '9c8e1d87-f40a-a525-621e-943461fc613b.csv': 'QmUeXqgyx7xC652KtCScBR5FN4BuLy7KW7FerqrL69xGzr', '9fad3fd3-5118-eff8-756f-f630faff3893.csv': 'QmeU7HMdpzHfPx9EgYKR7rXV843fwGhRbLi4T63u97MWe4', 'a02f7b7e-ac8e-dec3-d834-522eb9143635.csv': 'QmTvc9mQuEpdxS2Mrvknn6biCMAYi4HWHH6tEd1ZKYTzoy', 'a0923636-f4f9-ae18-2d78-ae28a1d8e012.csv': 'QmSPbXseFo9DRK4iAYLUduDpZr7qqFNBuV4EQzgd3T3w2z', 'a15b86d7-484c-c362-f450-faa2ac14842b.csv': 'Qmf7wqyQ39Bq735NoGQSTgSsneNcQMVoEANX8cyC5LdWg4', 'a5cbfb33-4ff6-a211-1872-1cc13aa0a26e.csv': 'QmWR74PH6EePHjDihwRo2bGCBqniwFAtedmTvzM78LSq9J', 'a6098ac7-2263-44f1-b8e0-11d5e321a0a9.csv': 'QmbZy9fxg9wS5XWTJjsUPjo5MJqiBk9R4ZcqbAkoGeKm9X', 'a78b7a6e-3a87-57ed-579e-f0aa516cf4f7.csv': 'QmVxjaE8e1k96cxcEoyVdNmD7zzGw96KwXWB6LKu15gyig', 'a816d435-c9ad-d306-2186-2901c3378bce.csv': 'QmRGxS7K3i1K7ZAxbvNP2zgJohnoBQKukKA7jFATWfQros', 'aa62f88c-f84a-7528-77e9-ceae4e307d98.csv': 'QmPvbvW4ndaD7MbobKvmfGcehsKuXu7UiTHr7UQNYcaQ6y', 'aa9eabaa-c5bc-f66e-9964-c661dc42f756.csv': 'Qma1U5tWLsVTxdYev694xo1kLeVukERYrxtaPF4j2kU8Xa', 'aab88605-4d68-76cc-707d-adf93b21a016.csv': 'QmZwxyehvyTpSB44ZnKXQCt7yzwZnUeR1e7upfrp2oAVwL', 'ab9237f0-6fc7-833e-b4f8-db974b4a11d3.csv': 'QmZfhb8BsrEbcQwGFS67ttvE5b3nGXEZ7Tz5h9p8gm9Lwf', 'b07fb5d9-fef2-acee-aabb-0fd13577a115.csv': 'QmUjgmqfscdde3Dt1CTYLqE4h2Q5N57RCZ5j84LC15iBHn', 'b4faccc9-4558-5663-3dfd-41ecf26bdbd5.csv': 'QmRRQicqRACtTsq5dquvkEDMaQCsqcrTwsf19NewZxfeJm', 'b5fab35c-8cd1-49f0-b28c-122866af8614.csv': 'QmZA35JqhZut8fpT1Esn6WP6M9tJ5ErpQ49F8d1MS5UJpD', 'b7dab12f-cdbd-e169-9947-3643c12d3629.csv': 'QmTD1WaeNYQpeTXAYsbdC9dwLk1GHcL5wc5fKuX37PJZcP', 'bd48d71a-b748-ad11-36b5-e68e7829a5eb.csv': 'QmRFBpYZyNRHjANQdb3CtnJBhsEfhTFADWYM4u67X7Leh1', 'befc2bcd-ca60-6ee8-7d73-394491f1ca40.csv': 'QmeVTqvf6BEvPAmuuwT1grwVPSPeaE7XP3TH2ELfeKL8xo', 'cd8e26ec-75ff-6615-61b1-6131388fe3e1.csv': 'QmR73io6dbkQtFaAwdG8YWE64FQvS4FzFc8f3BH3uwzpvr', 'd0cec11a-0908-1aff-779a-aeecb578f6ed.csv': 'QmcD4AXHCfSYmtieVmgkWPuH1rCXCZhG9GMWh2kfLt5w5w', 'd40ab6f5-dcaa-f4d7-6f90-f62606935e85.csv': 'QmSiNNHcg7WBCUmwQmpVQiqzmpRH3JFCpumgiFuocLmZFw', 'd47e7895-a94d-fc4a-d3b5-9bd50c174151.csv': 'QmPgrZDiJRYSekGtMyFJtF1u6NciQjq3tZ1kHvf7abBtYQ', 'd5c5c620-5f81-d037-7ca9-e47977070cce.csv': 'QmRPzA1iamp5eeDqqLks81CmkhKGSyGnsp7TLBcGecupEe', 'd7487ef4-dfe9-37b2-ea2b-db9d42cfd357.csv': 'QmUBxJGCyRtMZc8a2XVo5N8E3zEdEbgs2ijh8A9Md3MZTM', 'd97b0f46-a666-2fdb-ca4e-e812f59e4ad4.csv': 'QmVLn81QF2Dnn8eAqKHwvTozmvVDXqFS5TkRyffrnXTAkC', 'd9e5fcda-4b2d-784f-2e46-dba97c78b926.csv': 'QmQ7SnwhNGW65xtYBfsjA6ixFzdt8YmjMWhm3Y6JrxEMZ1', 'dd84862c-76af-8a2c-688a-d0298301174f.csv': 'QmUqEVmm8zin8sz4TqoWyR5yBqTYwzECioLqp9meVNT8Vn', 'df9077ac-0a6a-7171-c445-83e4de47ea9e.csv': 'QmafFiKByiqopmuR9KxA9HxbfQ9ugJpefVAfQAedYgKb1p', 'e0e1f21a-22a7-d166-7bb1-63f6bbce1a32.csv': 'QmZ9DmjZD3q6ofLgTnjgtSkS88kC3wTkSS75625TBCu9Si', 'e575d740-f53b-12c3-32f8-611e3b16d817.csv': 'QmYtDLnxgqHrRG8raERxEh1tcee7AnN1e31Eo2YNLRczXM', 'eafb09ef-da63-8475-1fd3-5e08cc7049fe.csv': 'QmQbamrNDEQ4r196zwwgzA1KYtnN7oVo2JZ4KWAHPxYh5W', 'ed70a28f-30b2-acb7-658a-8b340dadd685.csv': 'QmNwzdFS8x61AZdJ4r8rWCCFtnsFdikmG2m8e1FemQXB7K', 'ed8d4f87-76c3-3647-4502-652d571e614f.csv': 'QmQDP3QLnyFi3qoJuCL6EpF2vuveT1A7hoMsvpyJiz69RK', 'f0508a26-db72-5402-157e-9cdcb6ba21e1.csv': 'QmRBxMqUk6AaYmaw2EH3U9SXVZ3GF1wiU6ATetUqfSpxrs', 'f50906e4-e45b-644b-45c6-0bf2fda63abc.csv': 'QmNkQiS1ETK3sdozBMPLfyPXXCosXUwpR7pnCJpaaUK7Wr', 'f643eaca-6406-fce7-2700-b2bf70c861e6.csv': 'QmSSyskYCypd8cvZedzeXMp8FoXTJLYRifXaxGVtw6diFh', 'f76dbfcd-dc76-3177-da13-00a1cd9c4119.csv': 'QmPLQJ5r7QJdvnzXXG8gm4LdMAXnFUUvCUu7UDCbNEt2sr', 'f9474a08-8797-fb7e-da37-c4b807722399.csv': 'QmVzNxivARSiJFAd8AfJGhRL1KE5DHt1epGP3gXLWMG1Cq', 'f9805d16-87db-6c51-2f8a-9581302f6302.csv': 'Qmd5zEdeR2tnKeZ1twhjNpd7EEYfmMutVbq7a9bScKm9Eg', 'fa848e1d-cd90-2576-ed80-4c6260cd9f75.csv': 'QmZBSU4rkVdTBmG6aBrNoyrffT9SgJZe8WEAibeJjKqbb5', 'fd87a73e-d9b8-9862-0d8d-a87118b9532a.csv': 'QmUZACdaRm5MU3EcZaVKT2wGggoAmTQDiEXNHkwssA3e8P', 'ff3b0878-1c85-2347-175c-3c9d69049c71.csv': 'QmTQhQ63hJayfE8qZGimqTSxVziek6tKfiVeyLKSh8HKkP'}\n"
     ]
    }
   ],
   "source": [
    "import requests\n",
    "import os\n",
    "import json\n",
    "\n",
    "def upload_file_to_ipfs(file_path):\n",
    "    \"\"\"Uploads a file to IPFS using the HTTP API and returns the CID.\"\"\"\n",
    "    with open(file_path, 'rb') as f:\n",
    "        files = {'file': f}\n",
    "        response = requests.post('http://127.0.0.1:5001/api/v0/add', files=files)\n",
    "        return response.json()['Hash']\n",
    "\n",
    "def upload_folder(folder_path):\n",
    "    \"\"\"Uploads all files in a folder to IPFS and returns a dictionary of file names and CIDs.\"\"\"\n",
    "    files_cid_dict = {}\n",
    "    for file_name in os.listdir(folder_path):\n",
    "        if file_name.endswith('.csv'):\n",
    "            file_path = os.path.join(folder_path, file_name)\n",
    "            cid = upload_file_to_ipfs(file_path)\n",
    "            files_cid_dict[file_name] = cid\n",
    "    return files_cid_dict\n",
    "\n",
    "# Replace this with the path to your folder containing the CSV files\n",
    "folder_path = './EncryptedPatient'\n",
    "result = upload_folder(folder_path)\n",
    "\n",
    "# Print the result\n",
    "print(result)\n"
   ]
  },
  {
   "cell_type": "code",
   "execution_count": 6,
   "id": "e4b425f7-bdb7-474e-93cc-cbeacd412ee2",
   "metadata": {},
   "outputs": [],
   "source": [
    "# Save dictionary as a CSV file\n",
    "import csv\n",
    "with open('cid_id.csv', 'w', newline='') as csv_file:\n",
    "    writer = csv.writer(csv_file)\n",
    "    for key, value in result.items():\n",
    "        writer.writerow([key, value])\n"
   ]
  },
  {
   "cell_type": "code",
   "execution_count": null,
   "id": "a124e5ec-5b59-4dd2-9ce8-17422a48bf7e",
   "metadata": {},
   "outputs": [],
   "source": []
  }
 ],
 "metadata": {
  "kernelspec": {
   "display_name": "Python 3 (ipykernel)",
   "language": "python",
   "name": "python3"
  },
  "language_info": {
   "codemirror_mode": {
    "name": "ipython",
    "version": 3
   },
   "file_extension": ".py",
   "mimetype": "text/x-python",
   "name": "python",
   "nbconvert_exporter": "python",
   "pygments_lexer": "ipython3",
   "version": "3.11.5"
  }
 },
 "nbformat": 4,
 "nbformat_minor": 5
}
